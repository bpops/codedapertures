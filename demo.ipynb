{
 "cells": [
  {
   "cell_type": "markdown",
   "metadata": {},
   "source": [
    "# Coded Apertures Demo\n",
    "\n",
    "CAPPY (Coded Aperture Production in PYthon) is a python module that allows users to easily generate common coded aperture patterns. Below, we show examples of building and showing various coded aperture patterns."
   ]
  },
  {
   "cell_type": "code",
   "execution_count": 1,
   "metadata": {},
   "outputs": [],
   "source": [
    "import codedapertures as ca"
   ]
  },
  {
   "cell_type": "markdown",
   "metadata": {},
   "source": [
    "### Random Array\n",
    "\n",
    "Generate a random array with a specified `x` and `y` element length, and `fill` factor. Note that due the random nature of its generation, desired and actual fill factor may differ. Specify a plot size when `show`ing it."
   ]
  },
  {
   "cell_type": "code",
   "execution_count": 2,
   "metadata": {},
   "outputs": [
    {
     "name": "stdout",
     "output_type": "stream",
     "text": [
      "Random Array\n",
      "x, y: 60, 100\n",
      "desired fill factor: 0.60\n",
      "actuall fill factor: 0.60\n"
     ]
    },
    {
     "data": {
      "image/png": "[encoded data removed]",
      "text/plain": [
       "<Figure size 600x600 with 1 Axes>"
      ]
     },
     "metadata": {},
     "output_type": "display_data"
    }
   ],
   "source": [
    "rand_arr = ca.rand_array(x=60, y=100, fill=0.6)\n",
    "rand_arr.show(size=6)"
   ]
  },
  {
   "cell_type": "markdown",
   "metadata": {},
   "source": [
    "### Uniformly Redundant Array"
   ]
  },
  {
   "cell_type": "markdown",
   "metadata": {},
   "source": [
    "Build a uniformly redundant array by specifiying the rank. The `rank` is the ith pair of primes (satisfying their difference == 2). Specify the `mult`iplier, which is how many times, in each direction, the pattern is tiled. Optionally, add a border of specified thickness."
   ]
  },
  {
   "cell_type": "code",
   "execution_count": 12,
   "metadata": {},
   "outputs": [
    {
     "name": "stdout",
     "output_type": "stream",
     "text": [
      "Uniformly Redundant Array\n",
      "r, s: 17, 19 (rank 2)\n",
      "multiplier: 3\n"
     ]
    },
    {
     "data": {
      "image/png": "[encoded data removed]",
      "text/plain": [
       "<Figure size 400x400 with 1 Axes>"
      ]
     },
     "metadata": {},
     "output_type": "display_data"
    }
   ],
   "source": [
    "ura = ca.ura(rank=2, mult=3)\n",
    "ura.add_border(2)\n",
    "ura.show(size=4)"
   ]
  },
  {
   "cell_type": "markdown",
   "metadata": {},
   "source": [
    "### Modified Uniformly Redundant Array\n",
    "\n",
    "Generate a modified uniformly redundant array in the same way.  When showing, one can invert the array."
   ]
  },
  {
   "cell_type": "code",
   "execution_count": 17,
   "metadata": {},
   "outputs": [
    {
     "name": "stdout",
     "output_type": "stream",
     "text": [
      "Modified Uniformly Redundant Array\n",
      "L: 101 (rank 11)\n"
     ]
    },
    {
     "data": {
      "image/png": "[encoded data removed]",
      "text/plain": [
       "<Figure size 600x600 with 1 Axes>"
      ]
     },
     "metadata": {},
     "output_type": "display_data"
    }
   ],
   "source": [
    "mura = ca.mura(rank=11, mult=1)\n",
    "mura.show(inverse=True, size=6)"
   ]
  },
  {
   "cell_type": "markdown",
   "metadata": {},
   "source": [
    "### Other features\n",
    "\n",
    "Return the pattern as itself or its inverse."
   ]
  },
  {
   "cell_type": "code",
   "execution_count": 19,
   "metadata": {},
   "outputs": [
    {
     "name": "stdout",
     "output_type": "stream",
     "text": [
      "[[0. 0. 0. 0. 0. 0. 0. 0. 0. 0.]\n",
      " [0. 0. 0. 0. 0. 0. 0. 0. 0. 0.]\n",
      " [0. 0. 0. 1. 0. 1. 1. 1. 1. 0.]\n",
      " [0. 0. 0. 1. 0. 1. 1. 1. 1. 0.]\n",
      " [0. 0. 1. 0. 1. 0. 0. 0. 0. 1.]\n",
      " [0. 0. 1. 0. 1. 0. 0. 0. 0. 1.]\n",
      " [0. 0. 1. 0. 1. 0. 0. 0. 0. 1.]\n",
      " [0. 0. 0. 1. 0. 1. 1. 1. 1. 0.]\n",
      " [0. 0. 1. 0. 1. 0. 0. 0. 0. 1.]\n",
      " [0. 0. 0. 1. 0. 1. 1. 1. 1. 0.]]\n"
     ]
    }
   ],
   "source": [
    "pattern = ura.get_pattern(inverse=True)\n",
    "print(pattern[0:10,0:10])"
   ]
  }
 ],
 "metadata": {
  "kernelspec": {
   "display_name": "Python 3.9.13 ('venv')",
   "language": "python",
   "name": "python3"
  },
  "language_info": {
   "codemirror_mode": {
    "name": "ipython",
    "version": 3
   },
   "file_extension": ".py",
   "mimetype": "text/x-python",
   "name": "python",
   "nbconvert_exporter": "python",
   "pygments_lexer": "ipython3",
   "version": "3.11.4"
  },
  "vscode": {
   "interpreter": {
    "hash": "5073edb1ab009b8fedb399a83e340db81ddb8e64e4e1f7abad90c7553c2112c8"
   }
  }
 },
 "nbformat": 4,
 "nbformat_minor": 2
}
